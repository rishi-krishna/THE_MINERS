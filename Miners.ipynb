{
 "cells": [
  {
   "cell_type": "code",
   "execution_count": 1,
   "id": "6ce921c5",
   "metadata": {},
   "outputs": [],
   "source": [
    "import pandas as pd\n",
    "import numpy as np\n",
    "import matplotlib.pyplot as plt\n",
    "import seaborn as sns\n",
    "%matplotlib inline\n",
    "import datetime"
   ]
  },
  {
   "cell_type": "code",
   "execution_count": 2,
   "id": "28542f14",
   "metadata": {},
   "outputs": [],
   "source": [
    "data = pd.read_csv(\"miners.csv\")"
   ]
  },
  {
   "cell_type": "code",
   "execution_count": 3,
   "id": "4b40a0d3",
   "metadata": {},
   "outputs": [
    {
     "data": {
      "text/html": [
       "<div>\n",
       "<style scoped>\n",
       "    .dataframe tbody tr th:only-of-type {\n",
       "        vertical-align: middle;\n",
       "    }\n",
       "\n",
       "    .dataframe tbody tr th {\n",
       "        vertical-align: top;\n",
       "    }\n",
       "\n",
       "    .dataframe thead th {\n",
       "        text-align: right;\n",
       "    }\n",
       "</style>\n",
       "<table border=\"1\" class=\"dataframe\">\n",
       "  <thead>\n",
       "    <tr style=\"text-align: right;\">\n",
       "      <th></th>\n",
       "      <th>Product ID</th>\n",
       "      <th>Product Category</th>\n",
       "      <th>Product Name</th>\n",
       "      <th>Product price</th>\n",
       "      <th>Sizes</th>\n",
       "      <th>Colors</th>\n",
       "      <th>State</th>\n",
       "      <th>AGE</th>\n",
       "      <th>Date</th>\n",
       "    </tr>\n",
       "  </thead>\n",
       "  <tbody>\n",
       "    <tr>\n",
       "      <th>0</th>\n",
       "      <td>1005</td>\n",
       "      <td>Hoodie</td>\n",
       "      <td>short sleve hoodie</td>\n",
       "      <td>23</td>\n",
       "      <td>L</td>\n",
       "      <td>WHITE</td>\n",
       "      <td>NJ</td>\n",
       "      <td>38</td>\n",
       "      <td>1/1/2017</td>\n",
       "    </tr>\n",
       "    <tr>\n",
       "      <th>1</th>\n",
       "      <td>1001</td>\n",
       "      <td>Hoodie</td>\n",
       "      <td>graphic hoodie</td>\n",
       "      <td>32</td>\n",
       "      <td>M</td>\n",
       "      <td>RED</td>\n",
       "      <td>NY</td>\n",
       "      <td>54</td>\n",
       "      <td>1/1/2017</td>\n",
       "    </tr>\n",
       "    <tr>\n",
       "      <th>2</th>\n",
       "      <td>1002</td>\n",
       "      <td>Hoodie</td>\n",
       "      <td>half zip hoodie</td>\n",
       "      <td>23</td>\n",
       "      <td>XXL</td>\n",
       "      <td>BLACK</td>\n",
       "      <td>NY</td>\n",
       "      <td>54</td>\n",
       "      <td>1/1/2017</td>\n",
       "    </tr>\n",
       "    <tr>\n",
       "      <th>3</th>\n",
       "      <td>8004</td>\n",
       "      <td>Tshirts</td>\n",
       "      <td>cropped tshirt</td>\n",
       "      <td>23</td>\n",
       "      <td>S</td>\n",
       "      <td>WHITE</td>\n",
       "      <td>AZ</td>\n",
       "      <td>19</td>\n",
       "      <td>1/1/2017</td>\n",
       "    </tr>\n",
       "    <tr>\n",
       "      <th>4</th>\n",
       "      <td>4005</td>\n",
       "      <td>shirts</td>\n",
       "      <td>denim shirt</td>\n",
       "      <td>14</td>\n",
       "      <td>S</td>\n",
       "      <td>BLUE</td>\n",
       "      <td>MI</td>\n",
       "      <td>57</td>\n",
       "      <td>1/1/2017</td>\n",
       "    </tr>\n",
       "    <tr>\n",
       "      <th>5</th>\n",
       "      <td>3004</td>\n",
       "      <td>Shoes</td>\n",
       "      <td>work shoes</td>\n",
       "      <td>20</td>\n",
       "      <td>XL</td>\n",
       "      <td>GREEN</td>\n",
       "      <td>CA</td>\n",
       "      <td>45</td>\n",
       "      <td>1/1/2017</td>\n",
       "    </tr>\n",
       "    <tr>\n",
       "      <th>6</th>\n",
       "      <td>7003</td>\n",
       "      <td>socks</td>\n",
       "      <td>ribbed socks</td>\n",
       "      <td>12</td>\n",
       "      <td>L</td>\n",
       "      <td>RED</td>\n",
       "      <td>CT</td>\n",
       "      <td>50</td>\n",
       "      <td>1/1/2017</td>\n",
       "    </tr>\n",
       "    <tr>\n",
       "      <th>7</th>\n",
       "      <td>8002</td>\n",
       "      <td>Tshirts</td>\n",
       "      <td>v neck tshirt</td>\n",
       "      <td>15</td>\n",
       "      <td>XL</td>\n",
       "      <td>GREEN</td>\n",
       "      <td>MI</td>\n",
       "      <td>45</td>\n",
       "      <td>1/1/2017</td>\n",
       "    </tr>\n",
       "    <tr>\n",
       "      <th>8</th>\n",
       "      <td>3001</td>\n",
       "      <td>Shoes</td>\n",
       "      <td>formal shoes</td>\n",
       "      <td>23</td>\n",
       "      <td>M</td>\n",
       "      <td>GREEN</td>\n",
       "      <td>CT</td>\n",
       "      <td>25</td>\n",
       "      <td>1/1/2017</td>\n",
       "    </tr>\n",
       "    <tr>\n",
       "      <th>9</th>\n",
       "      <td>1001</td>\n",
       "      <td>Hoodie</td>\n",
       "      <td>graphic hoodie</td>\n",
       "      <td>32</td>\n",
       "      <td>XXL</td>\n",
       "      <td>BLUE</td>\n",
       "      <td>CT</td>\n",
       "      <td>28</td>\n",
       "      <td>1/1/2017</td>\n",
       "    </tr>\n",
       "  </tbody>\n",
       "</table>\n",
       "</div>"
      ],
      "text/plain": [
       "   Product ID Product Category        Product Name  Product price Sizes  \\\n",
       "0        1005           Hoodie  short sleve hoodie             23     L   \n",
       "1        1001           Hoodie      graphic hoodie             32     M   \n",
       "2        1002           Hoodie     half zip hoodie             23   XXL   \n",
       "3        8004          Tshirts      cropped tshirt             23     S   \n",
       "4        4005           shirts         denim shirt             14     S   \n",
       "5        3004            Shoes          work shoes             20    XL   \n",
       "6        7003            socks        ribbed socks             12     L   \n",
       "7        8002          Tshirts       v neck tshirt             15    XL   \n",
       "8        3001            Shoes        formal shoes             23     M   \n",
       "9        1001           Hoodie      graphic hoodie             32   XXL   \n",
       "\n",
       "  Colors State  AGE      Date  \n",
       "0  WHITE    NJ   38  1/1/2017  \n",
       "1    RED    NY   54  1/1/2017  \n",
       "2  BLACK    NY   54  1/1/2017  \n",
       "3  WHITE    AZ   19  1/1/2017  \n",
       "4   BLUE    MI   57  1/1/2017  \n",
       "5  GREEN    CA   45  1/1/2017  \n",
       "6    RED    CT   50  1/1/2017  \n",
       "7  GREEN    MI   45  1/1/2017  \n",
       "8  GREEN    CT   25  1/1/2017  \n",
       "9   BLUE    CT   28  1/1/2017  "
      ]
     },
     "execution_count": 3,
     "metadata": {},
     "output_type": "execute_result"
    }
   ],
   "source": [
    "data.head(10)"
   ]
  },
  {
   "cell_type": "code",
   "execution_count": 33,
   "id": "435e1879",
   "metadata": {},
   "outputs": [
    {
     "data": {
      "text/html": [
       "<div>\n",
       "<style scoped>\n",
       "    .dataframe tbody tr th:only-of-type {\n",
       "        vertical-align: middle;\n",
       "    }\n",
       "\n",
       "    .dataframe tbody tr th {\n",
       "        vertical-align: top;\n",
       "    }\n",
       "\n",
       "    .dataframe thead th {\n",
       "        text-align: right;\n",
       "    }\n",
       "</style>\n",
       "<table border=\"1\" class=\"dataframe\">\n",
       "  <thead>\n",
       "    <tr style=\"text-align: right;\">\n",
       "      <th></th>\n",
       "      <th>Product ID</th>\n",
       "      <th>Product Category</th>\n",
       "      <th>Product Name</th>\n",
       "      <th>Product price</th>\n",
       "      <th>Sizes</th>\n",
       "      <th>Colors</th>\n",
       "      <th>State</th>\n",
       "      <th>AGE</th>\n",
       "      <th>Date</th>\n",
       "    </tr>\n",
       "  </thead>\n",
       "  <tbody>\n",
       "    <tr>\n",
       "      <th>85993</th>\n",
       "      <td>1001</td>\n",
       "      <td>Hoodie</td>\n",
       "      <td>graphic hoodie</td>\n",
       "      <td>32</td>\n",
       "      <td>XL</td>\n",
       "      <td>GREEN</td>\n",
       "      <td>NY</td>\n",
       "      <td>60</td>\n",
       "      <td>2017-12-31</td>\n",
       "    </tr>\n",
       "    <tr>\n",
       "      <th>85994</th>\n",
       "      <td>2003</td>\n",
       "      <td>Trousers</td>\n",
       "      <td>Shadow Jeans</td>\n",
       "      <td>25</td>\n",
       "      <td>XXL</td>\n",
       "      <td>BLACK</td>\n",
       "      <td>NY</td>\n",
       "      <td>22</td>\n",
       "      <td>2017-12-31</td>\n",
       "    </tr>\n",
       "    <tr>\n",
       "      <th>85995</th>\n",
       "      <td>4002</td>\n",
       "      <td>shirts</td>\n",
       "      <td>button shirt</td>\n",
       "      <td>13</td>\n",
       "      <td>S</td>\n",
       "      <td>GREEN</td>\n",
       "      <td>MD</td>\n",
       "      <td>23</td>\n",
       "      <td>2017-12-31</td>\n",
       "    </tr>\n",
       "    <tr>\n",
       "      <th>85996</th>\n",
       "      <td>2005</td>\n",
       "      <td>Trousers</td>\n",
       "      <td>Chinos</td>\n",
       "      <td>24</td>\n",
       "      <td>M</td>\n",
       "      <td>WHITE</td>\n",
       "      <td>CT</td>\n",
       "      <td>40</td>\n",
       "      <td>2017-12-31</td>\n",
       "    </tr>\n",
       "    <tr>\n",
       "      <th>85997</th>\n",
       "      <td>8001</td>\n",
       "      <td>Tshirts</td>\n",
       "      <td>round neck tshirt</td>\n",
       "      <td>19</td>\n",
       "      <td>XXL</td>\n",
       "      <td>BLUE</td>\n",
       "      <td>MA</td>\n",
       "      <td>59</td>\n",
       "      <td>2017-12-31</td>\n",
       "    </tr>\n",
       "  </tbody>\n",
       "</table>\n",
       "</div>"
      ],
      "text/plain": [
       "       Product ID Product Category       Product Name  Product price Sizes  \\\n",
       "85993        1001           Hoodie     graphic hoodie             32    XL   \n",
       "85994        2003         Trousers       Shadow Jeans             25   XXL   \n",
       "85995        4002           shirts       button shirt             13     S   \n",
       "85996        2005         Trousers            Chinos              24     M   \n",
       "85997        8001          Tshirts  round neck tshirt             19   XXL   \n",
       "\n",
       "      Colors State  AGE       Date  \n",
       "85993  GREEN    NY   60 2017-12-31  \n",
       "85994  BLACK    NY   22 2017-12-31  \n",
       "85995  GREEN    MD   23 2017-12-31  \n",
       "85996  WHITE    CT   40 2017-12-31  \n",
       "85997   BLUE    MA   59 2017-12-31  "
      ]
     },
     "execution_count": 33,
     "metadata": {},
     "output_type": "execute_result"
    }
   ],
   "source": [
    "data.tail()"
   ]
  },
  {
   "cell_type": "code",
   "execution_count": 34,
   "id": "996de510",
   "metadata": {},
   "outputs": [
    {
     "data": {
      "text/html": [
       "<div>\n",
       "<style scoped>\n",
       "    .dataframe tbody tr th:only-of-type {\n",
       "        vertical-align: middle;\n",
       "    }\n",
       "\n",
       "    .dataframe tbody tr th {\n",
       "        vertical-align: top;\n",
       "    }\n",
       "\n",
       "    .dataframe thead th {\n",
       "        text-align: right;\n",
       "    }\n",
       "</style>\n",
       "<table border=\"1\" class=\"dataframe\">\n",
       "  <thead>\n",
       "    <tr style=\"text-align: right;\">\n",
       "      <th></th>\n",
       "      <th>Product ID</th>\n",
       "      <th>Product price</th>\n",
       "      <th>AGE</th>\n",
       "    </tr>\n",
       "  </thead>\n",
       "  <tbody>\n",
       "    <tr>\n",
       "      <th>count</th>\n",
       "      <td>85998.000000</td>\n",
       "      <td>85998.000000</td>\n",
       "      <td>85998.000000</td>\n",
       "    </tr>\n",
       "    <tr>\n",
       "      <th>mean</th>\n",
       "      <td>4582.634573</td>\n",
       "      <td>18.653899</td>\n",
       "      <td>39.100374</td>\n",
       "    </tr>\n",
       "    <tr>\n",
       "      <th>std</th>\n",
       "      <td>2945.360456</td>\n",
       "      <td>6.132276</td>\n",
       "      <td>12.399054</td>\n",
       "    </tr>\n",
       "    <tr>\n",
       "      <th>min</th>\n",
       "      <td>1001.000000</td>\n",
       "      <td>8.000000</td>\n",
       "      <td>18.000000</td>\n",
       "    </tr>\n",
       "    <tr>\n",
       "      <th>25%</th>\n",
       "      <td>2003.000000</td>\n",
       "      <td>14.000000</td>\n",
       "      <td>28.000000</td>\n",
       "    </tr>\n",
       "    <tr>\n",
       "      <th>50%</th>\n",
       "      <td>4002.000000</td>\n",
       "      <td>18.000000</td>\n",
       "      <td>39.000000</td>\n",
       "    </tr>\n",
       "    <tr>\n",
       "      <th>75%</th>\n",
       "      <td>8001.000000</td>\n",
       "      <td>23.000000</td>\n",
       "      <td>50.000000</td>\n",
       "    </tr>\n",
       "    <tr>\n",
       "      <th>max</th>\n",
       "      <td>9005.000000</td>\n",
       "      <td>32.000000</td>\n",
       "      <td>60.000000</td>\n",
       "    </tr>\n",
       "  </tbody>\n",
       "</table>\n",
       "</div>"
      ],
      "text/plain": [
       "         Product ID  Product price           AGE\n",
       "count  85998.000000   85998.000000  85998.000000\n",
       "mean    4582.634573      18.653899     39.100374\n",
       "std     2945.360456       6.132276     12.399054\n",
       "min     1001.000000       8.000000     18.000000\n",
       "25%     2003.000000      14.000000     28.000000\n",
       "50%     4002.000000      18.000000     39.000000\n",
       "75%     8001.000000      23.000000     50.000000\n",
       "max     9005.000000      32.000000     60.000000"
      ]
     },
     "execution_count": 34,
     "metadata": {},
     "output_type": "execute_result"
    }
   ],
   "source": [
    "data.describe()"
   ]
  },
  {
   "cell_type": "code",
   "execution_count": 35,
   "id": "bed7cbbb",
   "metadata": {},
   "outputs": [
    {
     "name": "stdout",
     "output_type": "stream",
     "text": [
      "<class 'pandas.core.frame.DataFrame'>\n",
      "RangeIndex: 85998 entries, 0 to 85997\n",
      "Data columns (total 9 columns):\n",
      " #   Column            Non-Null Count  Dtype         \n",
      "---  ------            --------------  -----         \n",
      " 0   Product ID        85998 non-null  int64         \n",
      " 1   Product Category  85998 non-null  object        \n",
      " 2   Product Name      85998 non-null  object        \n",
      " 3   Product price     85998 non-null  int64         \n",
      " 4   Sizes             85998 non-null  object        \n",
      " 5   Colors            85998 non-null  object        \n",
      " 6   State             85998 non-null  object        \n",
      " 7   AGE               85998 non-null  int64         \n",
      " 8   Date              85998 non-null  datetime64[ns]\n",
      "dtypes: datetime64[ns](1), int64(3), object(5)\n",
      "memory usage: 5.9+ MB\n"
     ]
    }
   ],
   "source": [
    "data.info()"
   ]
  },
  {
   "cell_type": "code",
   "execution_count": 4,
   "id": "e4f1e353",
   "metadata": {},
   "outputs": [],
   "source": [
    "data['Date'] = data['Date'].apply(lambda x: datetime.datetime.strptime(x,'%m/%d/%Y'))"
   ]
  },
  {
   "cell_type": "code",
   "execution_count": 5,
   "id": "6cc16224",
   "metadata": {},
   "outputs": [],
   "source": [
    "x=data['Date'].dt.strftime('%b')"
   ]
  },
  {
   "cell_type": "code",
   "execution_count": 7,
   "id": "46cb002c",
   "metadata": {},
   "outputs": [
    {
     "data": {
      "text/plain": [
       "0        Jan\n",
       "1        Jan\n",
       "2        Jan\n",
       "3        Jan\n",
       "4        Jan\n",
       "        ... \n",
       "85993    Dec\n",
       "85994    Dec\n",
       "85995    Dec\n",
       "85996    Dec\n",
       "85997    Dec\n",
       "Name: Date, Length: 85998, dtype: object"
      ]
     },
     "execution_count": 7,
     "metadata": {},
     "output_type": "execute_result"
    }
   ],
   "source": [
    "x"
   ]
  },
  {
   "cell_type": "code",
   "execution_count": 8,
   "id": "7bcab875",
   "metadata": {},
   "outputs": [
    {
     "data": {
      "text/plain": [
       "Hoodie      16834\n",
       "Shoes       11860\n",
       "Trousers    11816\n",
       "socks       11686\n",
       "shirts      11406\n",
       "Tshirts     11198\n",
       "shorts      11198\n",
       "Name: Product Category, dtype: int64"
      ]
     },
     "execution_count": 8,
     "metadata": {},
     "output_type": "execute_result"
    }
   ],
   "source": [
    "y=data['Product Category'].value_counts()\n",
    "y"
   ]
  },
  {
   "cell_type": "code",
   "execution_count": 11,
   "id": "4d4bbbcb",
   "metadata": {},
   "outputs": [
    {
     "data": {
      "image/png": "[encoded data removed]",
      "text/plain": [
       "<Figure size 432x288 with 1 Axes>"
      ]
     },
     "metadata": {
      "needs_background": "light"
     },
     "output_type": "display_data"
    }
   ],
   "source": [
    "plt.scatter(data['Product Category'],x)\n",
    "plt.xlabel('X-axis label')\n",
    "plt.ylabel('Y-axis label')\n",
    "plt.title('Plot title')\n",
    "plt.show()"
   ]
  },
  {
   "cell_type": "code",
   "execution_count": 16,
   "id": "a5c4dd4a",
   "metadata": {},
   "outputs": [
    {
     "name": "stderr",
     "output_type": "stream",
     "text": [
      "C:\\Users\\saivi\\anaconda3\\lib\\site-packages\\seaborn\\_decorators.py:36: FutureWarning: Pass the following variable as a keyword arg: x. From version 0.12, the only valid positional argument will be `data`, and passing other arguments without an explicit keyword will result in an error or misinterpretation.\n",
      "  warnings.warn(\n"
     ]
    },
    {
     "data": {
      "image/png": "[encoded data removed]",
      "text/plain": [
       "<Figure size 432x288 with 1 Axes>"
      ]
     },
     "metadata": {
      "needs_background": "light"
     },
     "output_type": "display_data"
    }
   ],
   "source": [
    "sns.countplot(x)"
   ]
  },
  {
   "cell_type": "code",
   "execution_count": 14,
   "id": "d7a2a430",
   "metadata": {},
   "outputs": [
    {
     "name": "stderr",
     "output_type": "stream",
     "text": [
      "C:\\Users\\saivi\\anaconda3\\lib\\site-packages\\seaborn\\_decorators.py:36: FutureWarning: Pass the following variable as a keyword arg: x. From version 0.12, the only valid positional argument will be `data`, and passing other arguments without an explicit keyword will result in an error or misinterpretation.\n",
      "  warnings.warn(\n"
     ]
    },
    {
     "data": {
      "text/plain": [
       "<AxesSubplot:xlabel='Product Category', ylabel='count'>"
      ]
     },
     "execution_count": 14,
     "metadata": {},
     "output_type": "execute_result"
    },
    {
     "data": {
      "image/png": "[encoded data removed]",
      "text/plain": [
       "<Figure size 432x288 with 1 Axes>"
      ]
     },
     "metadata": {
      "needs_background": "light"
     },
     "output_type": "display_data"
    }
   ],
   "source": [
    "sns.countplot(data['Product Category'])"
   ]
  },
  {
   "cell_type": "code",
   "execution_count": 15,
   "id": "f1c8306d",
   "metadata": {},
   "outputs": [
    {
     "ename": "AttributeError",
     "evalue": "module 'matplotlib.pyplot' has no attribute 'countplot'",
     "output_type": "error",
     "traceback": [
      "\u001b[1;31m---------------------------------------------------------------------------\u001b[0m",
      "\u001b[1;31mAttributeError\u001b[0m                            Traceback (most recent call last)",
      "\u001b[1;32m~\\AppData\\Local\\Temp/ipykernel_1216/3738813002.py\u001b[0m in \u001b[0;36m<module>\u001b[1;34m\u001b[0m\n\u001b[1;32m----> 1\u001b[1;33m \u001b[0mplt\u001b[0m\u001b[1;33m.\u001b[0m\u001b[0mcountplot\u001b[0m\u001b[1;33m(\u001b[0m\u001b[0mx\u001b[0m\u001b[1;33m)\u001b[0m\u001b[1;33m\u001b[0m\u001b[1;33m\u001b[0m\u001b[0m\n\u001b[0m",
      "\u001b[1;31mAttributeError\u001b[0m: module 'matplotlib.pyplot' has no attribute 'countplot'"
     ]
    }
   ],
   "source": [
    "sns.countplot(data['Product Category'])"
   ]
  },
  {
   "cell_type": "code",
   "execution_count": 26,
   "id": "87102c08",
   "metadata": {},
   "outputs": [],
   "source": [
    "count=1-100"
   ]
  },
  {
   "cell_type": "code",
   "execution_count": 30,
   "id": "87f2fb58",
   "metadata": {},
   "outputs": [
    {
     "data": {
      "text/plain": [
       "[<matplotlib.lines.Line2D at 0x22569a70ac0>]"
      ]
     },
     "execution_count": 30,
     "metadata": {},
     "output_type": "execute_result"
    },
    {
     "data": {
      "image/png": "[encoded data removed]",
      "text/plain": [
       "<Figure size 432x288 with 1 Axes>"
      ]
     },
     "metadata": {
      "needs_background": "light"
     },
     "output_type": "display_data"
    }
   ],
   "source": [
    "plt.plot(x,data['Product Category'])"
   ]
  },
  {
   "cell_type": "code",
   "execution_count": 32,
   "id": "260da562",
   "metadata": {},
   "outputs": [
    {
     "data": {
      "text/plain": [
       "[<matplotlib.lines.Line2D at 0x22569da3b50>]"
      ]
     },
     "execution_count": 32,
     "metadata": {},
     "output_type": "execute_result"
    },
    {
     "data": {
      "image/png": "[encoded data removed]",
      "text/plain": [
       "<Figure size 432x288 with 1 Axes>"
      ]
     },
     "metadata": {
      "needs_background": "light"
     },
     "output_type": "display_data"
    }
   ],
   "source": [
    "plt.plot(x,data['Colors'])"
   ]
  },
  {
   "cell_type": "code",
   "execution_count": 36,
   "id": "711caad7",
   "metadata": {},
   "outputs": [
    {
     "name": "stderr",
     "output_type": "stream",
     "text": [
      "C:\\Users\\saivi\\anaconda3\\lib\\site-packages\\seaborn\\_decorators.py:36: FutureWarning: Pass the following variables as keyword args: x, y. From version 0.12, the only valid positional argument will be `data`, and passing other arguments without an explicit keyword will result in an error or misinterpretation.\n",
      "  warnings.warn(\n"
     ]
    },
    {
     "data": {
      "text/plain": [
       "<AxesSubplot:xlabel='Product price', ylabel='State'>"
      ]
     },
     "execution_count": 36,
     "metadata": {},
     "output_type": "execute_result"
    },
    {
     "data": {
      "image/png": "[encoded data removed]",
      "text/plain": [
       "<Figure size 432x288 with 1 Axes>"
      ]
     },
     "metadata": {
      "needs_background": "light"
     },
     "output_type": "display_data"
    }
   ],
   "source": [
    "sns.barplot(data['Product price'], data['State'])"
   ]
  },
  {
   "cell_type": "code",
   "execution_count": 37,
   "id": "c022ff67",
   "metadata": {},
   "outputs": [
    {
     "name": "stderr",
     "output_type": "stream",
     "text": [
      "C:\\Users\\saivi\\anaconda3\\lib\\site-packages\\seaborn\\_decorators.py:36: FutureWarning: Pass the following variable as a keyword arg: x. From version 0.12, the only valid positional argument will be `data`, and passing other arguments without an explicit keyword will result in an error or misinterpretation.\n",
      "  warnings.warn(\n"
     ]
    },
    {
     "data": {
      "text/plain": [
       "<AxesSubplot:xlabel='State', ylabel='count'>"
      ]
     },
     "execution_count": 37,
     "metadata": {},
     "output_type": "execute_result"
    },
    {
     "data": {
      "image/png": "[encoded data removed]",
      "text/plain": [
       "<Figure size 432x288 with 1 Axes>"
      ]
     },
     "metadata": {
      "needs_background": "light"
     },
     "output_type": "display_data"
    }
   ],
   "source": [
    "sns.countplot(data['State'])"
   ]
  },
  {
   "cell_type": "code",
   "execution_count": null,
   "id": "010fc235",
   "metadata": {},
   "outputs": [],
   "source": []
  }
 ],
 "metadata": {
  "kernelspec": {
   "display_name": "Python 3 (ipykernel)",
   "language": "python",
   "name": "python3"
  },
  "language_info": {
   "codemirror_mode": {
    "name": "ipython",
    "version": 3
   },
   "file_extension": ".py",
   "mimetype": "text/x-python",
   "name": "python",
   "nbconvert_exporter": "python",
   "pygments_lexer": "ipython3",
   "version": "3.9.7"
  }
 },
 "nbformat": 4,
 "nbformat_minor": 5
}
