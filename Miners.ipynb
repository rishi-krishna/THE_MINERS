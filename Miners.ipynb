{
 "cells": [
  {
   "cell_type": "code",
   "execution_count": 1,
   "id": "09f64c8c",
   "metadata": {},
   "outputs": [],
   "source": [
    "import pandas as pd\n",
    "import numpy as np\n",
    "import matplotlib.pyplot as plt\n",
    "import seaborn as sns\n",
    "%matplotlib inline\n",
    "import datetime"
   ]
  },
  {
   "cell_type": "code",
   "execution_count": 2,
   "id": "8d310b34",
   "metadata": {},
   "outputs": [],
   "source": [
    "data = pd.read_csv(\"miners.csv\")"
   ]
  },
  {
   "cell_type": "code",
   "execution_count": 3,
   "id": "b4456a6e",
   "metadata": {},
   "outputs": [
    {
     "data": {
      "text/html": [
       "<div>\n",
       "<style scoped>\n",
       "    .dataframe tbody tr th:only-of-type {\n",
       "        vertical-align: middle;\n",
       "    }\n",
       "\n",
       "    .dataframe tbody tr th {\n",
       "        vertical-align: top;\n",
       "    }\n",
       "\n",
       "    .dataframe thead th {\n",
       "        text-align: right;\n",
       "    }\n",
       "</style>\n",
       "<table border=\"1\" class=\"dataframe\">\n",
       "  <thead>\n",
       "    <tr style=\"text-align: right;\">\n",
       "      <th></th>\n",
       "      <th>Product ID</th>\n",
       "      <th>Product Category</th>\n",
       "      <th>Product Name</th>\n",
       "      <th>Product price</th>\n",
       "      <th>Sizes</th>\n",
       "      <th>Colors</th>\n",
       "      <th>State</th>\n",
       "      <th>AGE</th>\n",
       "      <th>Date</th>\n",
       "      <th>text</th>\n",
       "      <th>class</th>\n",
       "    </tr>\n",
       "  </thead>\n",
       "  <tbody>\n",
       "    <tr>\n",
       "      <th>0</th>\n",
       "      <td>1005</td>\n",
       "      <td>Hoodie</td>\n",
       "      <td>short sleve hoodie</td>\n",
       "      <td>23</td>\n",
       "      <td>L</td>\n",
       "      <td>WHITE</td>\n",
       "      <td>NJ</td>\n",
       "      <td>38</td>\n",
       "      <td>1/1/2017</td>\n",
       "      <td>Absolutely wonderful - silky and sexy and comf...</td>\n",
       "      <td>1</td>\n",
       "    </tr>\n",
       "    <tr>\n",
       "      <th>1</th>\n",
       "      <td>1001</td>\n",
       "      <td>Hoodie</td>\n",
       "      <td>graphic hoodie</td>\n",
       "      <td>32</td>\n",
       "      <td>M</td>\n",
       "      <td>RED</td>\n",
       "      <td>NY</td>\n",
       "      <td>54</td>\n",
       "      <td>1/1/2017</td>\n",
       "      <td>Love this dress!  it's sooo pretty.  i happene...</td>\n",
       "      <td>1</td>\n",
       "    </tr>\n",
       "    <tr>\n",
       "      <th>2</th>\n",
       "      <td>1002</td>\n",
       "      <td>Hoodie</td>\n",
       "      <td>half zip hoodie</td>\n",
       "      <td>23</td>\n",
       "      <td>XXL</td>\n",
       "      <td>BLACK</td>\n",
       "      <td>NY</td>\n",
       "      <td>54</td>\n",
       "      <td>1/1/2017</td>\n",
       "      <td>I had such high hopes for this dress and reall...</td>\n",
       "      <td>0</td>\n",
       "    </tr>\n",
       "    <tr>\n",
       "      <th>3</th>\n",
       "      <td>8004</td>\n",
       "      <td>Tshirts</td>\n",
       "      <td>cropped tshirt</td>\n",
       "      <td>23</td>\n",
       "      <td>S</td>\n",
       "      <td>WHITE</td>\n",
       "      <td>AZ</td>\n",
       "      <td>19</td>\n",
       "      <td>1/1/2017</td>\n",
       "      <td>I love, love, love this jumpsuit. it's fun, fl...</td>\n",
       "      <td>1</td>\n",
       "    </tr>\n",
       "    <tr>\n",
       "      <th>4</th>\n",
       "      <td>4005</td>\n",
       "      <td>shirts</td>\n",
       "      <td>denim shirt</td>\n",
       "      <td>14</td>\n",
       "      <td>S</td>\n",
       "      <td>BLUE</td>\n",
       "      <td>MI</td>\n",
       "      <td>57</td>\n",
       "      <td>1/1/2017</td>\n",
       "      <td>This shirt is very flattering to all due to th...</td>\n",
       "      <td>1</td>\n",
       "    </tr>\n",
       "    <tr>\n",
       "      <th>5</th>\n",
       "      <td>3004</td>\n",
       "      <td>Shoes</td>\n",
       "      <td>work shoes</td>\n",
       "      <td>20</td>\n",
       "      <td>XL</td>\n",
       "      <td>GREEN</td>\n",
       "      <td>CA</td>\n",
       "      <td>45</td>\n",
       "      <td>1/1/2017</td>\n",
       "      <td>I love tracy reese dresses, but this one is no...</td>\n",
       "      <td>0</td>\n",
       "    </tr>\n",
       "    <tr>\n",
       "      <th>6</th>\n",
       "      <td>7003</td>\n",
       "      <td>socks</td>\n",
       "      <td>ribbed socks</td>\n",
       "      <td>12</td>\n",
       "      <td>L</td>\n",
       "      <td>RED</td>\n",
       "      <td>CT</td>\n",
       "      <td>50</td>\n",
       "      <td>1/1/2017</td>\n",
       "      <td>I aded this in my basket at hte last mintue to...</td>\n",
       "      <td>1</td>\n",
       "    </tr>\n",
       "    <tr>\n",
       "      <th>7</th>\n",
       "      <td>8002</td>\n",
       "      <td>Tshirts</td>\n",
       "      <td>v neck tshirt</td>\n",
       "      <td>15</td>\n",
       "      <td>XL</td>\n",
       "      <td>GREEN</td>\n",
       "      <td>MI</td>\n",
       "      <td>45</td>\n",
       "      <td>1/1/2017</td>\n",
       "      <td>I ordered this in carbon for store pick up, an...</td>\n",
       "      <td>1</td>\n",
       "    </tr>\n",
       "    <tr>\n",
       "      <th>8</th>\n",
       "      <td>3001</td>\n",
       "      <td>Shoes</td>\n",
       "      <td>formal shoes</td>\n",
       "      <td>23</td>\n",
       "      <td>M</td>\n",
       "      <td>GREEN</td>\n",
       "      <td>CT</td>\n",
       "      <td>25</td>\n",
       "      <td>1/1/2017</td>\n",
       "      <td>I love this dress. i usually get an xs but it ...</td>\n",
       "      <td>1</td>\n",
       "    </tr>\n",
       "    <tr>\n",
       "      <th>9</th>\n",
       "      <td>1001</td>\n",
       "      <td>Hoodie</td>\n",
       "      <td>graphic hoodie</td>\n",
       "      <td>32</td>\n",
       "      <td>XXL</td>\n",
       "      <td>BLUE</td>\n",
       "      <td>CT</td>\n",
       "      <td>28</td>\n",
       "      <td>1/1/2017</td>\n",
       "      <td>I'm 5\"5' and 125 lbs. i ordered the s petite t...</td>\n",
       "      <td>1</td>\n",
       "    </tr>\n",
       "  </tbody>\n",
       "</table>\n",
       "</div>"
      ],
      "text/plain": [
       "   Product ID Product Category        Product Name  Product price Sizes  \\\n",
       "0        1005           Hoodie  short sleve hoodie             23     L   \n",
       "1        1001           Hoodie      graphic hoodie             32     M   \n",
       "2        1002           Hoodie     half zip hoodie             23   XXL   \n",
       "3        8004          Tshirts      cropped tshirt             23     S   \n",
       "4        4005           shirts         denim shirt             14     S   \n",
       "5        3004            Shoes          work shoes             20    XL   \n",
       "6        7003            socks        ribbed socks             12     L   \n",
       "7        8002          Tshirts       v neck tshirt             15    XL   \n",
       "8        3001            Shoes        formal shoes             23     M   \n",
       "9        1001           Hoodie      graphic hoodie             32   XXL   \n",
       "\n",
       "  Colors State  AGE      Date  \\\n",
       "0  WHITE    NJ   38  1/1/2017   \n",
       "1    RED    NY   54  1/1/2017   \n",
       "2  BLACK    NY   54  1/1/2017   \n",
       "3  WHITE    AZ   19  1/1/2017   \n",
       "4   BLUE    MI   57  1/1/2017   \n",
       "5  GREEN    CA   45  1/1/2017   \n",
       "6    RED    CT   50  1/1/2017   \n",
       "7  GREEN    MI   45  1/1/2017   \n",
       "8  GREEN    CT   25  1/1/2017   \n",
       "9   BLUE    CT   28  1/1/2017   \n",
       "\n",
       "                                                text  class  \n",
       "0  Absolutely wonderful - silky and sexy and comf...      1  \n",
       "1  Love this dress!  it's sooo pretty.  i happene...      1  \n",
       "2  I had such high hopes for this dress and reall...      0  \n",
       "3  I love, love, love this jumpsuit. it's fun, fl...      1  \n",
       "4  This shirt is very flattering to all due to th...      1  \n",
       "5  I love tracy reese dresses, but this one is no...      0  \n",
       "6  I aded this in my basket at hte last mintue to...      1  \n",
       "7  I ordered this in carbon for store pick up, an...      1  \n",
       "8  I love this dress. i usually get an xs but it ...      1  \n",
       "9  I'm 5\"5' and 125 lbs. i ordered the s petite t...      1  "
      ]
     },
     "execution_count": 3,
     "metadata": {},
     "output_type": "execute_result"
    }
   ],
   "source": [
    "data.head(10)"
   ]
  },
  {
   "cell_type": "code",
   "execution_count": 4,
   "id": "c82ee7ea",
   "metadata": {},
   "outputs": [
    {
     "data": {
      "text/html": [
       "<div>\n",
       "<style scoped>\n",
       "    .dataframe tbody tr th:only-of-type {\n",
       "        vertical-align: middle;\n",
       "    }\n",
       "\n",
       "    .dataframe tbody tr th {\n",
       "        vertical-align: top;\n",
       "    }\n",
       "\n",
       "    .dataframe thead th {\n",
       "        text-align: right;\n",
       "    }\n",
       "</style>\n",
       "<table border=\"1\" class=\"dataframe\">\n",
       "  <thead>\n",
       "    <tr style=\"text-align: right;\">\n",
       "      <th></th>\n",
       "      <th>Product ID</th>\n",
       "      <th>Product Category</th>\n",
       "      <th>Product Name</th>\n",
       "      <th>Product price</th>\n",
       "      <th>Sizes</th>\n",
       "      <th>Colors</th>\n",
       "      <th>State</th>\n",
       "      <th>AGE</th>\n",
       "      <th>Date</th>\n",
       "      <th>text</th>\n",
       "      <th>class</th>\n",
       "    </tr>\n",
       "  </thead>\n",
       "  <tbody>\n",
       "    <tr>\n",
       "      <th>85993</th>\n",
       "      <td>1001</td>\n",
       "      <td>Hoodie</td>\n",
       "      <td>graphic hoodie</td>\n",
       "      <td>32</td>\n",
       "      <td>XL</td>\n",
       "      <td>GREEN</td>\n",
       "      <td>NY</td>\n",
       "      <td>60</td>\n",
       "      <td>12/31/2017</td>\n",
       "      <td>What a cute top! i would say true to size. it ...</td>\n",
       "      <td>1</td>\n",
       "    </tr>\n",
       "    <tr>\n",
       "      <th>85994</th>\n",
       "      <td>2003</td>\n",
       "      <td>Trousers</td>\n",
       "      <td>Shadow Jeans</td>\n",
       "      <td>25</td>\n",
       "      <td>XXL</td>\n",
       "      <td>BLACK</td>\n",
       "      <td>NY</td>\n",
       "      <td>22</td>\n",
       "      <td>12/31/2017</td>\n",
       "      <td>I love workout dresses and skirts. i sport the...</td>\n",
       "      <td>1</td>\n",
       "    </tr>\n",
       "    <tr>\n",
       "      <th>85995</th>\n",
       "      <td>4002</td>\n",
       "      <td>shirts</td>\n",
       "      <td>button shirt</td>\n",
       "      <td>13</td>\n",
       "      <td>S</td>\n",
       "      <td>GREEN</td>\n",
       "      <td>MD</td>\n",
       "      <td>23</td>\n",
       "      <td>12/31/2017</td>\n",
       "      <td>I love a crisp white poplin blouse and this to...</td>\n",
       "      <td>1</td>\n",
       "    </tr>\n",
       "    <tr>\n",
       "      <th>85996</th>\n",
       "      <td>2005</td>\n",
       "      <td>Trousers</td>\n",
       "      <td>Chinos</td>\n",
       "      <td>24</td>\n",
       "      <td>M</td>\n",
       "      <td>WHITE</td>\n",
       "      <td>CT</td>\n",
       "      <td>40</td>\n",
       "      <td>12/31/2017</td>\n",
       "      <td>While the styling is cute, the fit was poor un...</td>\n",
       "      <td>0</td>\n",
       "    </tr>\n",
       "    <tr>\n",
       "      <th>85997</th>\n",
       "      <td>8001</td>\n",
       "      <td>Tshirts</td>\n",
       "      <td>round neck tshirt</td>\n",
       "      <td>19</td>\n",
       "      <td>XXL</td>\n",
       "      <td>BLUE</td>\n",
       "      <td>MA</td>\n",
       "      <td>59</td>\n",
       "      <td>12/31/2017</td>\n",
       "      <td>36dd, 10/12 in tops, 12/14 in bottoms\\nthis is...</td>\n",
       "      <td>1</td>\n",
       "    </tr>\n",
       "  </tbody>\n",
       "</table>\n",
       "</div>"
      ],
      "text/plain": [
       "       Product ID Product Category       Product Name  Product price Sizes  \\\n",
       "85993        1001           Hoodie     graphic hoodie             32    XL   \n",
       "85994        2003         Trousers       Shadow Jeans             25   XXL   \n",
       "85995        4002           shirts       button shirt             13     S   \n",
       "85996        2005         Trousers            Chinos              24     M   \n",
       "85997        8001          Tshirts  round neck tshirt             19   XXL   \n",
       "\n",
       "      Colors State  AGE        Date  \\\n",
       "85993  GREEN    NY   60  12/31/2017   \n",
       "85994  BLACK    NY   22  12/31/2017   \n",
       "85995  GREEN    MD   23  12/31/2017   \n",
       "85996  WHITE    CT   40  12/31/2017   \n",
       "85997   BLUE    MA   59  12/31/2017   \n",
       "\n",
       "                                                    text  class  \n",
       "85993  What a cute top! i would say true to size. it ...      1  \n",
       "85994  I love workout dresses and skirts. i sport the...      1  \n",
       "85995  I love a crisp white poplin blouse and this to...      1  \n",
       "85996  While the styling is cute, the fit was poor un...      0  \n",
       "85997  36dd, 10/12 in tops, 12/14 in bottoms\\nthis is...      1  "
      ]
     },
     "execution_count": 4,
     "metadata": {},
     "output_type": "execute_result"
    }
   ],
   "source": [
    "data.tail()"
   ]
  },
  {
   "cell_type": "code",
   "execution_count": 5,
   "id": "e83dd559",
   "metadata": {},
   "outputs": [
    {
     "data": {
      "text/html": [
       "<div>\n",
       "<style scoped>\n",
       "    .dataframe tbody tr th:only-of-type {\n",
       "        vertical-align: middle;\n",
       "    }\n",
       "\n",
       "    .dataframe tbody tr th {\n",
       "        vertical-align: top;\n",
       "    }\n",
       "\n",
       "    .dataframe thead th {\n",
       "        text-align: right;\n",
       "    }\n",
       "</style>\n",
       "<table border=\"1\" class=\"dataframe\">\n",
       "  <thead>\n",
       "    <tr style=\"text-align: right;\">\n",
       "      <th></th>\n",
       "      <th>Product ID</th>\n",
       "      <th>Product price</th>\n",
       "      <th>AGE</th>\n",
       "      <th>class</th>\n",
       "    </tr>\n",
       "  </thead>\n",
       "  <tbody>\n",
       "    <tr>\n",
       "      <th>count</th>\n",
       "      <td>85998.000000</td>\n",
       "      <td>85998.000000</td>\n",
       "      <td>85998.000000</td>\n",
       "      <td>85998.000000</td>\n",
       "    </tr>\n",
       "    <tr>\n",
       "      <th>mean</th>\n",
       "      <td>4582.634573</td>\n",
       "      <td>18.653899</td>\n",
       "      <td>39.100374</td>\n",
       "      <td>0.822914</td>\n",
       "    </tr>\n",
       "    <tr>\n",
       "      <th>std</th>\n",
       "      <td>2945.360456</td>\n",
       "      <td>6.132276</td>\n",
       "      <td>12.399054</td>\n",
       "      <td>0.381743</td>\n",
       "    </tr>\n",
       "    <tr>\n",
       "      <th>min</th>\n",
       "      <td>1001.000000</td>\n",
       "      <td>8.000000</td>\n",
       "      <td>18.000000</td>\n",
       "      <td>0.000000</td>\n",
       "    </tr>\n",
       "    <tr>\n",
       "      <th>25%</th>\n",
       "      <td>2003.000000</td>\n",
       "      <td>14.000000</td>\n",
       "      <td>28.000000</td>\n",
       "      <td>1.000000</td>\n",
       "    </tr>\n",
       "    <tr>\n",
       "      <th>50%</th>\n",
       "      <td>4002.000000</td>\n",
       "      <td>18.000000</td>\n",
       "      <td>39.000000</td>\n",
       "      <td>1.000000</td>\n",
       "    </tr>\n",
       "    <tr>\n",
       "      <th>75%</th>\n",
       "      <td>8001.000000</td>\n",
       "      <td>23.000000</td>\n",
       "      <td>50.000000</td>\n",
       "      <td>1.000000</td>\n",
       "    </tr>\n",
       "    <tr>\n",
       "      <th>max</th>\n",
       "      <td>9005.000000</td>\n",
       "      <td>32.000000</td>\n",
       "      <td>60.000000</td>\n",
       "      <td>1.000000</td>\n",
       "    </tr>\n",
       "  </tbody>\n",
       "</table>\n",
       "</div>"
      ],
      "text/plain": [
       "         Product ID  Product price           AGE         class\n",
       "count  85998.000000   85998.000000  85998.000000  85998.000000\n",
       "mean    4582.634573      18.653899     39.100374      0.822914\n",
       "std     2945.360456       6.132276     12.399054      0.381743\n",
       "min     1001.000000       8.000000     18.000000      0.000000\n",
       "25%     2003.000000      14.000000     28.000000      1.000000\n",
       "50%     4002.000000      18.000000     39.000000      1.000000\n",
       "75%     8001.000000      23.000000     50.000000      1.000000\n",
       "max     9005.000000      32.000000     60.000000      1.000000"
      ]
     },
     "execution_count": 5,
     "metadata": {},
     "output_type": "execute_result"
    }
   ],
   "source": [
    "data.describe()"
   ]
  },
  {
   "cell_type": "code",
   "execution_count": 6,
   "id": "b338978b",
   "metadata": {},
   "outputs": [
    {
     "name": "stdout",
     "output_type": "stream",
     "text": [
      "<class 'pandas.core.frame.DataFrame'>\n",
      "RangeIndex: 85998 entries, 0 to 85997\n",
      "Data columns (total 11 columns):\n",
      " #   Column            Non-Null Count  Dtype \n",
      "---  ------            --------------  ----- \n",
      " 0   Product ID        85998 non-null  int64 \n",
      " 1   Product Category  85998 non-null  object\n",
      " 2   Product Name      85998 non-null  object\n",
      " 3   Product price     85998 non-null  int64 \n",
      " 4   Sizes             85998 non-null  object\n",
      " 5   Colors            85998 non-null  object\n",
      " 6   State             85998 non-null  object\n",
      " 7   AGE               85998 non-null  int64 \n",
      " 8   Date              85998 non-null  object\n",
      " 9   text              82959 non-null  object\n",
      " 10  class             85998 non-null  int64 \n",
      "dtypes: int64(4), object(7)\n",
      "memory usage: 7.2+ MB\n"
     ]
    }
   ],
   "source": [
    "data.info()"
   ]
  },
  {
   "cell_type": "code",
   "execution_count": 7,
   "id": "b5ea85a7",
   "metadata": {},
   "outputs": [
    {
     "data": {
      "text/html": [
       "<div>\n",
       "<style scoped>\n",
       "    .dataframe tbody tr th:only-of-type {\n",
       "        vertical-align: middle;\n",
       "    }\n",
       "\n",
       "    .dataframe tbody tr th {\n",
       "        vertical-align: top;\n",
       "    }\n",
       "\n",
       "    .dataframe thead th {\n",
       "        text-align: right;\n",
       "    }\n",
       "</style>\n",
       "<table border=\"1\" class=\"dataframe\">\n",
       "  <thead>\n",
       "    <tr style=\"text-align: right;\">\n",
       "      <th></th>\n",
       "      <th>Product ID</th>\n",
       "      <th>Product Category</th>\n",
       "      <th>Product Name</th>\n",
       "      <th>Product price</th>\n",
       "      <th>Sizes</th>\n",
       "      <th>Colors</th>\n",
       "      <th>State</th>\n",
       "      <th>AGE</th>\n",
       "      <th>Date</th>\n",
       "      <th>text</th>\n",
       "      <th>class</th>\n",
       "    </tr>\n",
       "  </thead>\n",
       "  <tbody>\n",
       "    <tr>\n",
       "      <th>0</th>\n",
       "      <td>False</td>\n",
       "      <td>False</td>\n",
       "      <td>False</td>\n",
       "      <td>False</td>\n",
       "      <td>False</td>\n",
       "      <td>False</td>\n",
       "      <td>False</td>\n",
       "      <td>False</td>\n",
       "      <td>False</td>\n",
       "      <td>False</td>\n",
       "      <td>False</td>\n",
       "    </tr>\n",
       "    <tr>\n",
       "      <th>1</th>\n",
       "      <td>False</td>\n",
       "      <td>False</td>\n",
       "      <td>False</td>\n",
       "      <td>False</td>\n",
       "      <td>False</td>\n",
       "      <td>False</td>\n",
       "      <td>False</td>\n",
       "      <td>False</td>\n",
       "      <td>False</td>\n",
       "      <td>False</td>\n",
       "      <td>False</td>\n",
       "    </tr>\n",
       "    <tr>\n",
       "      <th>2</th>\n",
       "      <td>False</td>\n",
       "      <td>False</td>\n",
       "      <td>False</td>\n",
       "      <td>False</td>\n",
       "      <td>False</td>\n",
       "      <td>False</td>\n",
       "      <td>False</td>\n",
       "      <td>False</td>\n",
       "      <td>False</td>\n",
       "      <td>False</td>\n",
       "      <td>False</td>\n",
       "    </tr>\n",
       "    <tr>\n",
       "      <th>3</th>\n",
       "      <td>False</td>\n",
       "      <td>False</td>\n",
       "      <td>False</td>\n",
       "      <td>False</td>\n",
       "      <td>False</td>\n",
       "      <td>False</td>\n",
       "      <td>False</td>\n",
       "      <td>False</td>\n",
       "      <td>False</td>\n",
       "      <td>False</td>\n",
       "      <td>False</td>\n",
       "    </tr>\n",
       "    <tr>\n",
       "      <th>4</th>\n",
       "      <td>False</td>\n",
       "      <td>False</td>\n",
       "      <td>False</td>\n",
       "      <td>False</td>\n",
       "      <td>False</td>\n",
       "      <td>False</td>\n",
       "      <td>False</td>\n",
       "      <td>False</td>\n",
       "      <td>False</td>\n",
       "      <td>False</td>\n",
       "      <td>False</td>\n",
       "    </tr>\n",
       "    <tr>\n",
       "      <th>...</th>\n",
       "      <td>...</td>\n",
       "      <td>...</td>\n",
       "      <td>...</td>\n",
       "      <td>...</td>\n",
       "      <td>...</td>\n",
       "      <td>...</td>\n",
       "      <td>...</td>\n",
       "      <td>...</td>\n",
       "      <td>...</td>\n",
       "      <td>...</td>\n",
       "      <td>...</td>\n",
       "    </tr>\n",
       "    <tr>\n",
       "      <th>85993</th>\n",
       "      <td>False</td>\n",
       "      <td>False</td>\n",
       "      <td>False</td>\n",
       "      <td>False</td>\n",
       "      <td>False</td>\n",
       "      <td>False</td>\n",
       "      <td>False</td>\n",
       "      <td>False</td>\n",
       "      <td>False</td>\n",
       "      <td>False</td>\n",
       "      <td>False</td>\n",
       "    </tr>\n",
       "    <tr>\n",
       "      <th>85994</th>\n",
       "      <td>False</td>\n",
       "      <td>False</td>\n",
       "      <td>False</td>\n",
       "      <td>False</td>\n",
       "      <td>False</td>\n",
       "      <td>False</td>\n",
       "      <td>False</td>\n",
       "      <td>False</td>\n",
       "      <td>False</td>\n",
       "      <td>False</td>\n",
       "      <td>False</td>\n",
       "    </tr>\n",
       "    <tr>\n",
       "      <th>85995</th>\n",
       "      <td>False</td>\n",
       "      <td>False</td>\n",
       "      <td>False</td>\n",
       "      <td>False</td>\n",
       "      <td>False</td>\n",
       "      <td>False</td>\n",
       "      <td>False</td>\n",
       "      <td>False</td>\n",
       "      <td>False</td>\n",
       "      <td>False</td>\n",
       "      <td>False</td>\n",
       "    </tr>\n",
       "    <tr>\n",
       "      <th>85996</th>\n",
       "      <td>False</td>\n",
       "      <td>False</td>\n",
       "      <td>False</td>\n",
       "      <td>False</td>\n",
       "      <td>False</td>\n",
       "      <td>False</td>\n",
       "      <td>False</td>\n",
       "      <td>False</td>\n",
       "      <td>False</td>\n",
       "      <td>False</td>\n",
       "      <td>False</td>\n",
       "    </tr>\n",
       "    <tr>\n",
       "      <th>85997</th>\n",
       "      <td>False</td>\n",
       "      <td>False</td>\n",
       "      <td>False</td>\n",
       "      <td>False</td>\n",
       "      <td>False</td>\n",
       "      <td>False</td>\n",
       "      <td>False</td>\n",
       "      <td>False</td>\n",
       "      <td>False</td>\n",
       "      <td>False</td>\n",
       "      <td>False</td>\n",
       "    </tr>\n",
       "  </tbody>\n",
       "</table>\n",
       "<p>85998 rows × 11 columns</p>\n",
       "</div>"
      ],
      "text/plain": [
       "       Product ID  Product Category  Product Name  Product price  Sizes  \\\n",
       "0           False             False         False          False  False   \n",
       "1           False             False         False          False  False   \n",
       "2           False             False         False          False  False   \n",
       "3           False             False         False          False  False   \n",
       "4           False             False         False          False  False   \n",
       "...           ...               ...           ...            ...    ...   \n",
       "85993       False             False         False          False  False   \n",
       "85994       False             False         False          False  False   \n",
       "85995       False             False         False          False  False   \n",
       "85996       False             False         False          False  False   \n",
       "85997       False             False         False          False  False   \n",
       "\n",
       "       Colors  State    AGE   Date   text  class  \n",
       "0       False  False  False  False  False  False  \n",
       "1       False  False  False  False  False  False  \n",
       "2       False  False  False  False  False  False  \n",
       "3       False  False  False  False  False  False  \n",
       "4       False  False  False  False  False  False  \n",
       "...       ...    ...    ...    ...    ...    ...  \n",
       "85993   False  False  False  False  False  False  \n",
       "85994   False  False  False  False  False  False  \n",
       "85995   False  False  False  False  False  False  \n",
       "85996   False  False  False  False  False  False  \n",
       "85997   False  False  False  False  False  False  \n",
       "\n",
       "[85998 rows x 11 columns]"
      ]
     },
     "execution_count": 7,
     "metadata": {},
     "output_type": "execute_result"
    }
   ],
   "source": [
    "data.isnull()"
   ]
  },
  {
   "cell_type": "code",
   "execution_count": 8,
   "id": "0236fcd0",
   "metadata": {},
   "outputs": [
    {
     "data": {
      "text/plain": [
       "Product ID             0\n",
       "Product Category       0\n",
       "Product Name           0\n",
       "Product price          0\n",
       "Sizes                  0\n",
       "Colors                 0\n",
       "State                  0\n",
       "AGE                    0\n",
       "Date                   0\n",
       "text                3039\n",
       "class                  0\n",
       "dtype: int64"
      ]
     },
     "execution_count": 8,
     "metadata": {},
     "output_type": "execute_result"
    }
   ],
   "source": [
    "data.isnull().sum()"
   ]
  },
  {
   "cell_type": "code",
   "execution_count": 9,
   "id": "400fd76a",
   "metadata": {},
   "outputs": [],
   "source": [
    "df=data.dropna()"
   ]
  },
  {
   "cell_type": "code",
   "execution_count": 10,
   "id": "33eccbb5",
   "metadata": {},
   "outputs": [
    {
     "data": {
      "text/plain": [
       "Product ID          0\n",
       "Product Category    0\n",
       "Product Name        0\n",
       "Product price       0\n",
       "Sizes               0\n",
       "Colors              0\n",
       "State               0\n",
       "AGE                 0\n",
       "Date                0\n",
       "text                0\n",
       "class               0\n",
       "dtype: int64"
      ]
     },
     "execution_count": 10,
     "metadata": {},
     "output_type": "execute_result"
    }
   ],
   "source": [
    "df.isnull().sum()"
   ]
  },
  {
   "cell_type": "code",
   "execution_count": 11,
   "id": "0f3fb49b",
   "metadata": {},
   "outputs": [],
   "source": [
    "import re\n",
    "import string"
   ]
  },
  {
   "cell_type": "code",
   "execution_count": 12,
   "id": "695ead17",
   "metadata": {},
   "outputs": [],
   "source": [
    "def wordopt(text):\n",
    "    text = text.lower()\n",
    "    text = re.sub('\\[.*?\\]', '', text)\n",
    "    text = re.sub(\"\\\\W\",\" \",text) \n",
    "    text = re.sub('https?://\\S+|www\\.\\S+', '', text)\n",
    "    text = re.sub('<.*?>+', '', text)\n",
    "    text = re.sub('[%s]' % re.escape(string.punctuation), '', text)\n",
    "    text = re.sub('\\n', '', text)\n",
    "    text = re.sub('\\w*\\d\\w*', '', text)    \n",
    "    return text"
   ]
  },
  {
   "cell_type": "code",
   "execution_count": 14,
   "id": "4b3c62fc",
   "metadata": {},
   "outputs": [
    {
     "name": "stderr",
     "output_type": "stream",
     "text": [
      "C:\\Users\\saivi\\AppData\\Local\\Temp/ipykernel_32792/2916151560.py:1: SettingWithCopyWarning: \n",
      "A value is trying to be set on a copy of a slice from a DataFrame.\n",
      "Try using .loc[row_indexer,col_indexer] = value instead\n",
      "\n",
      "See the caveats in the documentation: https://pandas.pydata.org/pandas-docs/stable/user_guide/indexing.html#returning-a-view-versus-a-copy\n",
      "  df[\"text\"] = df[\"text\"].apply(wordopt)\n"
     ]
    }
   ],
   "source": [
    "df[\"text\"] = df[\"text\"].apply(wordopt)"
   ]
  },
  {
   "cell_type": "code",
   "execution_count": 15,
   "id": "dff38c10",
   "metadata": {},
   "outputs": [
    {
     "data": {
      "text/plain": [
       "0        absolutely wonderful   silky and sexy and comf...\n",
       "1        love this dress   it s sooo pretty   i happene...\n",
       "2        i had such high hopes for this dress and reall...\n",
       "3        i love  love  love this jumpsuit  it s fun  fl...\n",
       "4        this shirt is very flattering to all due to th...\n",
       "                               ...                        \n",
       "85993    what a cute top  i would say true to size  it ...\n",
       "85994    i love workout dresses and skirts  i sport the...\n",
       "85995    i love a crisp white poplin blouse and this to...\n",
       "85996    while the styling is cute  the fit was poor un...\n",
       "85997        in tops    in bottoms this is a wonderfull...\n",
       "Name: text, Length: 82959, dtype: object"
      ]
     },
     "execution_count": 15,
     "metadata": {},
     "output_type": "execute_result"
    }
   ],
   "source": [
    "df['text']"
   ]
  },
  {
   "cell_type": "code",
   "execution_count": 16,
   "id": "3eee1ee2",
   "metadata": {},
   "outputs": [],
   "source": [
    "x=df['text']"
   ]
  },
  {
   "cell_type": "code",
   "execution_count": 17,
   "id": "e39a1fa2",
   "metadata": {},
   "outputs": [],
   "source": [
    "y=df['class']"
   ]
  },
  {
   "cell_type": "code",
   "execution_count": 18,
   "id": "c53e7abd",
   "metadata": {},
   "outputs": [],
   "source": [
    "from sklearn.model_selection import train_test_split\n",
    "from sklearn.metrics import accuracy_score\n",
    "from sklearn.metrics import classification_report\n"
   ]
  },
  {
   "cell_type": "code",
   "execution_count": 19,
   "id": "0d1b5302",
   "metadata": {},
   "outputs": [],
   "source": [
    "x_train, x_test, y_train, y_test = train_test_split(x, y, test_size=0.25)"
   ]
  },
  {
   "cell_type": "code",
   "execution_count": 20,
   "id": "a585396a",
   "metadata": {},
   "outputs": [],
   "source": [
    "from sklearn.feature_extraction.text import TfidfVectorizer"
   ]
  },
  {
   "cell_type": "code",
   "execution_count": 21,
   "id": "317d5950",
   "metadata": {},
   "outputs": [],
   "source": [
    "vectorization = TfidfVectorizer()\n",
    "xv_train = vectorization.fit_transform(x_train)\n",
    "xv_test = vectorization.transform(x_test)"
   ]
  },
  {
   "cell_type": "code",
   "execution_count": 26,
   "id": "b5a0b27e",
   "metadata": {},
   "outputs": [],
   "source": [
    "from sklearn.tree import DecisionTreeClassifier"
   ]
  },
  {
   "cell_type": "code",
   "execution_count": 27,
   "id": "3e6ac6a8",
   "metadata": {},
   "outputs": [
    {
     "data": {
      "text/plain": [
       "DecisionTreeClassifier()"
      ]
     },
     "execution_count": 27,
     "metadata": {},
     "output_type": "execute_result"
    }
   ],
   "source": [
    "DT = DecisionTreeClassifier()\n",
    "DT.fit(xv_train, y_train)"
   ]
  },
  {
   "cell_type": "code",
   "execution_count": 28,
   "id": "a4dd59a4",
   "metadata": {},
   "outputs": [],
   "source": [
    "pred_dt = DT.predict(xv_test)"
   ]
  },
  {
   "cell_type": "code",
   "execution_count": 29,
   "id": "57c18b1b",
   "metadata": {},
   "outputs": [
    {
     "data": {
      "text/plain": [
       "0.9954676952748313"
      ]
     },
     "execution_count": 29,
     "metadata": {},
     "output_type": "execute_result"
    }
   ],
   "source": [
    "DT.score(xv_test, y_test)"
   ]
  },
  {
   "cell_type": "code",
   "execution_count": 30,
   "id": "86ff37c5",
   "metadata": {},
   "outputs": [
    {
     "name": "stdout",
     "output_type": "stream",
     "text": [
      "              precision    recall  f1-score   support\n",
      "\n",
      "           0       0.98      0.99      0.99      3712\n",
      "           1       1.00      1.00      1.00     17028\n",
      "\n",
      "    accuracy                           1.00     20740\n",
      "   macro avg       0.99      0.99      0.99     20740\n",
      "weighted avg       1.00      1.00      1.00     20740\n",
      "\n"
     ]
    }
   ],
   "source": [
    "print(classification_report(y_test, pred_dt))"
   ]
  },
  {
   "cell_type": "code",
   "execution_count": 31,
   "id": "92908d55",
   "metadata": {},
   "outputs": [],
   "source": [
    "from sklearn.neighbors import KNeighborsClassifier"
   ]
  },
  {
   "cell_type": "code",
   "execution_count": 32,
   "id": "54645341",
   "metadata": {},
   "outputs": [
    {
     "data": {
      "text/plain": [
       "KNeighborsClassifier()"
      ]
     },
     "execution_count": 32,
     "metadata": {},
     "output_type": "execute_result"
    }
   ],
   "source": [
    "KN = KNeighborsClassifier()\n",
    "KN.fit(xv_train, y_train)"
   ]
  },
  {
   "cell_type": "code",
   "execution_count": 33,
   "id": "dd142696",
   "metadata": {},
   "outputs": [],
   "source": [
    "pred_kn = KN.predict(xv_test)"
   ]
  },
  {
   "cell_type": "code",
   "execution_count": 34,
   "id": "4b7c57d4",
   "metadata": {},
   "outputs": [
    {
     "data": {
      "text/plain": [
       "0.8924783027965284"
      ]
     },
     "execution_count": 34,
     "metadata": {},
     "output_type": "execute_result"
    }
   ],
   "source": [
    "KN.score(xv_test, y_test)"
   ]
  },
  {
   "cell_type": "code",
   "execution_count": 35,
   "id": "bbbfa432",
   "metadata": {},
   "outputs": [
    {
     "name": "stdout",
     "output_type": "stream",
     "text": [
      "              precision    recall  f1-score   support\n",
      "\n",
      "           0       0.72      0.65      0.68      3712\n",
      "           1       0.92      0.95      0.94     17028\n",
      "\n",
      "    accuracy                           0.89     20740\n",
      "   macro avg       0.82      0.80      0.81     20740\n",
      "weighted avg       0.89      0.89      0.89     20740\n",
      "\n"
     ]
    }
   ],
   "source": [
    "print(classification_report(y_test, pred_kn))"
   ]
  },
  {
   "cell_type": "code",
   "execution_count": 36,
   "id": "146bad15",
   "metadata": {},
   "outputs": [],
   "source": [
    "from sklearn.naive_bayes import MultinomialNB"
   ]
  },
  {
   "cell_type": "code",
   "execution_count": 37,
   "id": "85b075e5",
   "metadata": {},
   "outputs": [
    {
     "data": {
      "text/plain": [
       "MultinomialNB()"
      ]
     },
     "execution_count": 37,
     "metadata": {},
     "output_type": "execute_result"
    }
   ],
   "source": [
    "NB = MultinomialNB()\n",
    "NB.fit(xv_train, y_train)"
   ]
  },
  {
   "cell_type": "code",
   "execution_count": 38,
   "id": "72f50482",
   "metadata": {},
   "outputs": [],
   "source": [
    "pred_nb = NB.predict(xv_test)"
   ]
  },
  {
   "cell_type": "code",
   "execution_count": 39,
   "id": "b9563a48",
   "metadata": {},
   "outputs": [
    {
     "data": {
      "text/plain": [
       "0.8683220829315332"
      ]
     },
     "execution_count": 39,
     "metadata": {},
     "output_type": "execute_result"
    }
   ],
   "source": [
    "NB.score(xv_test, y_test)"
   ]
  },
  {
   "cell_type": "code",
   "execution_count": 40,
   "id": "0262ac19",
   "metadata": {},
   "outputs": [
    {
     "name": "stdout",
     "output_type": "stream",
     "text": [
      "              precision    recall  f1-score   support\n",
      "\n",
      "           0       0.95      0.28      0.43      3712\n",
      "           1       0.86      1.00      0.93     17028\n",
      "\n",
      "    accuracy                           0.87     20740\n",
      "   macro avg       0.91      0.64      0.68     20740\n",
      "weighted avg       0.88      0.87      0.84     20740\n",
      "\n"
     ]
    }
   ],
   "source": [
    "print(classification_report(y_test, pred_nb))"
   ]
  },
  {
   "cell_type": "code",
   "execution_count": 41,
   "id": "f8f8c7d5",
   "metadata": {},
   "outputs": [],
   "source": [
    "from sklearn.ensemble import RandomForestClassifier"
   ]
  },
  {
   "cell_type": "code",
   "execution_count": 42,
   "id": "6d9d7a9f",
   "metadata": {},
   "outputs": [
    {
     "data": {
      "text/plain": [
       "RandomForestClassifier()"
      ]
     },
     "execution_count": 42,
     "metadata": {},
     "output_type": "execute_result"
    }
   ],
   "source": [
    "RF = RandomForestClassifier()\n",
    "RF.fit(xv_train, y_train)"
   ]
  },
  {
   "cell_type": "code",
   "execution_count": 44,
   "id": "1c608bba",
   "metadata": {},
   "outputs": [],
   "source": [
    "pred_RF=RF.predict(xv_test)"
   ]
  },
  {
   "cell_type": "code",
   "execution_count": 45,
   "id": "e2dbed24",
   "metadata": {},
   "outputs": [
    {
     "data": {
      "text/plain": [
       "0.9972999035679846"
      ]
     },
     "execution_count": 45,
     "metadata": {},
     "output_type": "execute_result"
    }
   ],
   "source": [
    "RF.score(xv_test, y_test)"
   ]
  },
  {
   "cell_type": "code",
   "execution_count": 46,
   "id": "26f70a33",
   "metadata": {},
   "outputs": [
    {
     "name": "stdout",
     "output_type": "stream",
     "text": [
      "              precision    recall  f1-score   support\n",
      "\n",
      "           0       1.00      0.99      0.99      3712\n",
      "           1       1.00      1.00      1.00     17028\n",
      "\n",
      "    accuracy                           1.00     20740\n",
      "   macro avg       1.00      0.99      1.00     20740\n",
      "weighted avg       1.00      1.00      1.00     20740\n",
      "\n"
     ]
    }
   ],
   "source": [
    "print(classification_report(y_test, pred_RF))"
   ]
  },
  {
   "cell_type": "code",
   "execution_count": 47,
   "id": "3ff05b1c",
   "metadata": {},
   "outputs": [],
   "source": [
    "from sklearn.ensemble import GradientBoostingClassifier"
   ]
  },
  {
   "cell_type": "code",
   "execution_count": 49,
   "id": "ebe3cc14",
   "metadata": {},
   "outputs": [
    {
     "data": {
      "text/plain": [
       "GradientBoostingClassifier()"
      ]
     },
     "execution_count": 49,
     "metadata": {},
     "output_type": "execute_result"
    }
   ],
   "source": [
    "GB = GradientBoostingClassifier()\n",
    "GB.fit(xv_train, y_train)"
   ]
  },
  {
   "cell_type": "code",
   "execution_count": 50,
   "id": "6dfe8893",
   "metadata": {},
   "outputs": [],
   "source": [
    "pred_GB=GB.predict(xv_test)"
   ]
  },
  {
   "cell_type": "code",
   "execution_count": 51,
   "id": "c137d33a",
   "metadata": {},
   "outputs": [
    {
     "data": {
      "text/plain": [
       "0.8756509161041466"
      ]
     },
     "execution_count": 51,
     "metadata": {},
     "output_type": "execute_result"
    }
   ],
   "source": [
    "GB.score(xv_test, y_test)"
   ]
  },
  {
   "cell_type": "code",
   "execution_count": 52,
   "id": "3c4b8c3e",
   "metadata": {},
   "outputs": [
    {
     "name": "stdout",
     "output_type": "stream",
     "text": [
      "              precision    recall  f1-score   support\n",
      "\n",
      "           0       0.85      0.37      0.52      3712\n",
      "           1       0.88      0.99      0.93     17028\n",
      "\n",
      "    accuracy                           0.88     20740\n",
      "   macro avg       0.86      0.68      0.72     20740\n",
      "weighted avg       0.87      0.88      0.85     20740\n",
      "\n"
     ]
    }
   ],
   "source": [
    "print(classification_report(y_test, pred_GB))"
   ]
  },
  {
   "cell_type": "code",
   "execution_count": 54,
   "id": "64c26ccd",
   "metadata": {},
   "outputs": [],
   "source": [
    "scores =[DT.score(xv_test, y_test),KN.score(xv_test, y_test),NB.score(xv_test, y_test),RF.score(xv_test, y_test),GB.score(xv_test, y_test)]\n",
    "algorithms =['Decision Tree','KNN Classification','MultinomialNB','Random Forest','Gradient Boosting']"
   ]
  },
  {
   "cell_type": "code",
   "execution_count": 62,
   "id": "a6823303",
   "metadata": {},
   "outputs": [
    {
     "name": "stderr",
     "output_type": "stream",
     "text": [
      "C:\\Users\\saivi\\anaconda3\\lib\\site-packages\\seaborn\\_decorators.py:36: FutureWarning: Pass the following variables as keyword args: x, y. From version 0.12, the only valid positional argument will be `data`, and passing other arguments without an explicit keyword will result in an error or misinterpretation.\n",
      "  warnings.warn(\n"
     ]
    },
    {
     "data": {
      "text/plain": [
       "<AxesSubplot:xlabel='Algorithms', ylabel='Accuracy score'>"
      ]
     },
     "execution_count": 62,
     "metadata": {},
     "output_type": "execute_result"
    },
    {
     "data": {
      "image/png": "[encoded data removed]",
      "text/plain": [
       "<Figure size 576x432 with 1 Axes>"
      ]
     },
     "metadata": {},
     "output_type": "display_data"
    }
   ],
   "source": [
    "sns.set(rc={'figure.figsize':(8,6)})\n",
    "plt.xlabel(\"Algorithms\")\n",
    "plt.ylabel(\"Accuracy score\")\n",
    "sns.lineplot(algorithms,scores)"
   ]
  },
  {
   "cell_type": "code",
   "execution_count": 58,
   "id": "acdbee7b",
   "metadata": {},
   "outputs": [
    {
     "name": "stderr",
     "output_type": "stream",
     "text": [
      "C:\\Users\\saivi\\anaconda3\\lib\\site-packages\\seaborn\\_decorators.py:36: FutureWarning: Pass the following variables as keyword args: x, y. From version 0.12, the only valid positional argument will be `data`, and passing other arguments without an explicit keyword will result in an error or misinterpretation.\n",
      "  warnings.warn(\n"
     ]
    },
    {
     "data": {
      "text/plain": [
       "<AxesSubplot:xlabel='Algorithms', ylabel='Accuracy score'>"
      ]
     },
     "execution_count": 58,
     "metadata": {},
     "output_type": "execute_result"
    },
    {
     "data": {
      "image/png": "[encoded data removed]",
      "text/plain": [
       "<Figure size 576x432 with 1 Axes>"
      ]
     },
     "metadata": {},
     "output_type": "display_data"
    }
   ],
   "source": [
    "sns.set(rc={'figure.figsize':(8,6)})\n",
    "plt.xlabel(\"Algorithms\")\n",
    "plt.ylabel(\"Accuracy score\")\n",
    "sns.barplot(algorithms,scores)"
   ]
  },
  {
   "cell_type": "code",
   "execution_count": null,
   "id": "b2699c10",
   "metadata": {},
   "outputs": [],
   "source": []
  }
 ],
 "metadata": {
  "kernelspec": {
   "display_name": "Python 3 (ipykernel)",
   "language": "python",
   "name": "python3"
  },
  "language_info": {
   "codemirror_mode": {
    "name": "ipython",
    "version": 3
   },
   "file_extension": ".py",
   "mimetype": "text/x-python",
   "name": "python",
   "nbconvert_exporter": "python",
   "pygments_lexer": "ipython3",
   "version": "3.9.7"
  }
 },
 "nbformat": 4,
 "nbformat_minor": 5
}
